{
 "cells": [
  {
   "cell_type": "code",
   "execution_count": 1,
   "metadata": {},
   "outputs": [],
   "source": [
    "import cv2"
   ]
  },
  {
   "cell_type": "code",
   "execution_count": 2,
   "metadata": {},
   "outputs": [],
   "source": [
    "cap = cv2.VideoCapture(0)"
   ]
  },
  {
   "cell_type": "code",
   "execution_count": 3,
   "metadata": {},
   "outputs": [],
   "source": [
    "face_model = cv2.CascadeClassifier('haarcascade_frontalface_default.xml')"
   ]
  },
  {
   "cell_type": "code",
   "execution_count": 4,
   "metadata": {},
   "outputs": [],
   "source": [
    "while True:\n",
    "    \n",
    "    status, photo = cap.read()\n",
    "    face_cor = face_model.detectMultiScale(photo)\n",
    "    length = len(face_cor)\n",
    "    if len(face_cor) == 0:\n",
    "        pass\n",
    "    else:\n",
    "        i =0\n",
    "        while i<length:\n",
    "            x1  = face_cor[i][0]\n",
    "            y1 = face_cor[i][1]\n",
    "            x2 = x1 + face_cor[i][2]\n",
    "            y2 = y1 + face_cor[i][3]\n",
    "\n",
    "            photo = cv2.rectangle(photo, (x1, y1), (x2, y2), [0,255,0], 3)\n",
    "            i += 1\n",
    "        cv2.imshow('anish', photo)\n",
    "        if cv2.waitKey(10) == 13:\n",
    "                break\n",
    "\n",
    "cv2.destroyAllWindows()\n"
   ]
  },
  {
   "cell_type": "code",
   "execution_count": 5,
   "metadata": {},
   "outputs": [],
   "source": [
    "cap.release()"
   ]
  }
 ],
 "metadata": {
  "kernelspec": {
   "display_name": "Python 3",
   "language": "python",
   "name": "python3"
  },
  "language_info": {
   "codemirror_mode": {
    "name": "ipython",
    "version": 3
   },
   "file_extension": ".py",
   "mimetype": "text/x-python",
   "name": "python",
   "nbconvert_exporter": "python",
   "pygments_lexer": "ipython3",
   "version": "3.7.6"
  }
 },
 "nbformat": 4,
 "nbformat_minor": 4
}
